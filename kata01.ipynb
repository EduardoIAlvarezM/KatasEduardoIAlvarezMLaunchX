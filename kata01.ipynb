{
 "cells": [
  {
   "cell_type": "markdown",
   "metadata": {},
   "source": [
    "# Fechas\n",
    "Programa que muestra la fecha del día"
   ]
  },
  {
   "cell_type": "code",
   "execution_count": null,
   "metadata": {},
   "outputs": [],
   "source": [
    "from datetime import date\n",
    "print(\"La fecha del día es: \"+str(date.today()))"
   ]
  },
  {
   "cell_type": "markdown",
   "metadata": {},
   "source": [
    "## Conversor de Unidades\n",
    "Conversión entre Pársecs (separación entre las estrellas) y Años Luz (distancias astronómicas,aprox. 9.46*10^12km)"
   ]
  },
  {
   "cell_type": "code",
   "execution_count": 12,
   "metadata": {},
   "outputs": [
    {
     "name": "stdout",
     "output_type": "stream",
     "text": [
      "Pársec a años luz: 35.88 aprox.\n"
     ]
    }
   ],
   "source": [
    "parsec=input('Ingresa los pársecs: ')\n",
    "#parsecs=11\n",
    "anioluz=int(parsecs)*3.26156\n",
    "#print(\"La conversión de pársecs a años luz es igual a: \"+str(aniluz))\n",
    "print(\"Pársec a años luz: {:.2f} aprox.\".format(anioluz))"
   ]
  }
 ],
 "metadata": {
  "interpreter": {
   "hash": "b89b5cfaba6639976dc87ff2fec6d58faec662063367e2c229c520fe71072417"
  },
  "kernelspec": {
   "display_name": "Python 3.10.2 64-bit",
   "language": "python",
   "name": "python3"
  },
  "language_info": {
   "codemirror_mode": {
    "name": "ipython",
    "version": 3
   },
   "file_extension": ".py",
   "mimetype": "text/x-python",
   "name": "python",
   "nbconvert_exporter": "python",
   "pygments_lexer": "ipython3",
   "version": "3.10.2"
  },
  "orig_nbformat": 4
 },
 "nbformat": 4,
 "nbformat_minor": 2
}
