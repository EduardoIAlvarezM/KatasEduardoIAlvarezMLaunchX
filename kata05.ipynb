{
 "cells": [
  {
   "cell_type": "markdown",
   "metadata": {},
   "source": [
    "# Ejercicio 1"
   ]
  },
  {
   "cell_type": "code",
   "execution_count": null,
   "metadata": {},
   "outputs": [],
   "source": [
    "tierra=149597870 #km\n",
    "jupiter=778547200 #km\n",
    "distancia=(jupiter-tierra)\n",
    "distanciam=distancia*0.621 #metros\n",
    "print(f\"Distancia entre Júpiter y La Tierra: {distancia} kms.\")\n",
    "print(f\"Distancia en millas: {round(distanciam)}.\")\n"
   ]
  },
  {
   "cell_type": "markdown",
   "metadata": {},
   "source": [
    "## Ejercicio 2"
   ]
  },
  {
   "cell_type": "code",
   "execution_count": 11,
   "metadata": {},
   "outputs": [
    {
     "name": "stdout",
     "output_type": "stream",
     "text": [
      "La distancia de los planetas es: 50300000 kms.\n",
      "La distancia en millas es de: 10563000.0.\n"
     ]
    }
   ],
   "source": [
    "titulo='Distancias entre El Sol y los planetas del Sistema Solar'\n",
    "planeta1=input('Escribe la distancia del primer planeta: ')\n",
    "planeta1=int(planeta1)\n",
    "planeta2=input('Esribe la distancia del segundo planeta: ')\n",
    "planeta2=int(planeta2)\n",
    "distancia=planeta1-planeta2\n",
    "print(f\"La distancia de los planetas es: {abs(distancia)} kms.\")\n",
    "#print(abs(distancia))\n",
    "millas=distancia*0.21\n",
    "print(f\"La distancia en millas es de: {abs(millas)}.\")\n",
    "#print(abs(millas))"
   ]
  }
 ],
 "metadata": {
  "interpreter": {
   "hash": "b89b5cfaba6639976dc87ff2fec6d58faec662063367e2c229c520fe71072417"
  },
  "kernelspec": {
   "display_name": "Python 3.10.2 64-bit",
   "language": "python",
   "name": "python3"
  },
  "language_info": {
   "codemirror_mode": {
    "name": "ipython",
    "version": 3
   },
   "file_extension": ".py",
   "mimetype": "text/x-python",
   "name": "python",
   "nbconvert_exporter": "python",
   "pygments_lexer": "ipython3",
   "version": "3.10.2"
  },
  "orig_nbformat": 4
 },
 "nbformat": 4,
 "nbformat_minor": 2
}
