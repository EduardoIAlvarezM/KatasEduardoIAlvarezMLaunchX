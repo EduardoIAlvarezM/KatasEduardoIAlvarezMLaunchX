{
 "cells": [
  {
   "cell_type": "markdown",
   "metadata": {},
   "source": [
    "# ASTEROIDE"
   ]
  },
  {
   "cell_type": "code",
   "execution_count": null,
   "metadata": {},
   "outputs": [],
   "source": [
    "asteroide=49\n",
    "velocidad=25\n",
    "if asteroide>velocidad:\n",
    "    print(\"UN ASTEROIDE SE ACERCA!!!\")\n",
    "else:\n",
    "    print(\"No hay alerta de asteroide\")"
   ]
  },
  {
   "cell_type": "code",
   "execution_count": null,
   "metadata": {},
   "outputs": [],
   "source": [
    "asteroide=19\n",
    "velocidad=20\n",
    "if asteroide<velocidad:\n",
    "    print(\"No hay nada en el cielo\")\n",
    "elif asteroide>velocidad:\n",
    "    print(\"VOLTÉA AL CIELO, SE ACERCA UN ASTEROIDE!!!\")\n",
    "else:\n",
    "    print(\"VOLTÉA AL CIELO, SE ACERCA UN ASTEROIDE!!!\")"
   ]
  },
  {
   "cell_type": "markdown",
   "metadata": {},
   "source": [
    "## AND y OR"
   ]
  },
  {
   "cell_type": "code",
   "execution_count": 15,
   "metadata": {},
   "outputs": [
    {
     "name": "stdout",
     "output_type": "stream",
     "text": [
      "Se acerca un asteroide\n",
      "No se encuentran amenazas\n"
     ]
    }
   ],
   "source": [
    "asteroide=2\n",
    "velocidadasteroide=10\n",
    "#dimensión del asteroide\n",
    "\"\"\"if asteroide<25:\n",
    "    print(\"El asteroide se desintegrará al entrar a La Tierra\")\n",
    "elif asteroide >=25 and asteroide<1000:\n",
    "    print(\"¡¡¡EMERGENCIA!!! \\nDAÑO INMINENTE POR CHOQUE DE METEORITO!!!\")\"\"\"\n",
    "\n",
    "#Velocidad del asteroide\n",
    "\"\"\"if velocidadasteroide>25:\n",
    "    print(\"ALERTA \\nUN ASTEROIDE SE ACERCA\")\n",
    "elif velocidadasteroide>=20:\n",
    "    print(\"Mira al cielo, un asteroide pasará cerca de la atmósfera\")\"\"\"\n",
    "\n",
    "#En conjunto\n",
    "if asteroide>=25 and velocidadasteroide>25:\n",
    "    print(\"¡¡¡ALERTA!!!\\nUN ASTEROIDE AMENAZA LA VIDA EN LA TIERRA\")\n",
    "elif asteroide>=25 or velocidadasteroide>20:\n",
    "    print(\"¡¡¡PRECAUCIÓN!!!\\nUN ASTEROIDE SE ACERCA A LA TIERRA, ESPERAR INSTRUCCIONES\")\n",
    "elif asteroide<25:\n",
    "    print(\"Se acerca un asteroide\\nNo se encuentran amenazas\")\n",
    "elif velocidadasteroide>=20:\n",
    "    print(\"Mira al cielo, un asteroide pasará cerca de la atmósfera\")\n",
    "else:\n",
    "    print(\"Nada que ver aquí\")"
   ]
  }
 ],
 "metadata": {
  "interpreter": {
   "hash": "b89b5cfaba6639976dc87ff2fec6d58faec662063367e2c229c520fe71072417"
  },
  "kernelspec": {
   "display_name": "Python 3.10.2 64-bit",
   "language": "python",
   "name": "python3"
  },
  "language_info": {
   "codemirror_mode": {
    "name": "ipython",
    "version": 3
   },
   "file_extension": ".py",
   "mimetype": "text/x-python",
   "name": "python",
   "nbconvert_exporter": "python",
   "pygments_lexer": "ipython3",
   "version": "3.10.2"
  },
  "orig_nbformat": 4
 },
 "nbformat": 4,
 "nbformat_minor": 2
}
