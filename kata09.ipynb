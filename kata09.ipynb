{
 "cells": [
  {
   "cell_type": "markdown",
   "metadata": {},
   "source": [
    "# Ejercicio: Uso de funciones en Python"
   ]
  },
  {
   "cell_type": "code",
   "execution_count": null,
   "metadata": {},
   "outputs": [],
   "source": [
    "tanqueuno=input('Litros de tanque uno')\n",
    "tanquedos=input('Litros de tanque dos')\n",
    "tanquetres=input('Litros de tanque tres')\n",
    "def reporte(tanqueuno, tanquedos, tanquetres):\n",
    "    tot=(tanqueuno+tanquedos+tanquetres)/3\n",
    "    print(f\"\"\"Reporte de tanques: \n",
    "    Combustible total: {tot}%\n",
    "    Tanque uno: {tanqueuno}%\n",
    "    Tanque dos: {tanquedos}%\n",
    "    Tanque tres: {tanquetres}%\"\"\")\n",
    "#print(reporte(40, 30, 80))\n",
    "print(reporte(int(tanqueuno), int(tanquedos), int(tanquetres)))\n",
    "\n",
    "def total(valores):\n",
    "    res=sum(valores)\n",
    "    totalvalores=len(valores)\n",
    "    return res/totalvalores\n",
    "#total([40, 30, 50])\n",
    "\n",
    "def reporte(tanqueuno, tanquedos, tanquetres):\n",
    "    print(f\"\"\"--------------------------\\nReporte de tanques: \n",
    "    Combustible total: {total([int(tanqueuno), int(tanquedos), int(tanquetres)])}%\n",
    "    Tanque uno: {tanqueuno}%\n",
    "    Tanque dos: {tanquedos}%\n",
    "    Tanque tres: {tanquetres}%\\n--------------------------\"\"\")\n",
    "#print(reporte(40, 30, 80))\n",
    "print(reporte(int(tanqueuno), int(tanquedos), int(tanquetres)))"
   ]
  },
  {
   "cell_type": "markdown",
   "metadata": {},
   "source": [
    "## Ejercicio 2: Trabajo con argumentos de palabra clave"
   ]
  },
  {
   "cell_type": "code",
   "execution_count": 61,
   "metadata": {},
   "outputs": [
    {
     "name": "stdout",
     "output_type": "stream",
     "text": [
      "\n",
      "    Destino: Luna\n",
      "    Minutos  para completar la misión: 90 min.\n",
      "    Reserva de combustible: 180 lts.\n",
      "    Tanque principal: 30 litros restantes\n",
      "Tanque secundario: 50 litros restantes\n",
      "Tanque terciario: 100 litros restantes\n",
      "\n"
     ]
    }
   ],
   "source": [
    "#horaprelanzamiento=input('Escribe los minutos para el prelanzamiento')\n",
    "#tiempovuelo=input('Escribe el tiempo de vuelo (en minutos)')\n",
    "#destino=input('Escribe el destino')\n",
    "#tanqueexterno=input('Escribe los litros que tiene el tanque externo')\n",
    "#tanqueinterno=input('Escribe los litros que tiene el tanque interno')\n",
    "#def reportemision(horaprelanzamiento, tiempovuelo, destino, tanqueexterno, tanqueinterno):\n",
    "#    return f\"\"\"\n",
    "#    Misión hacía: {destino}.\n",
    "#    Tiempo de vuelo: {int(horaprelanzamiento)+int(tiempovuelo)} min.\n",
    "#    Combustible total: {int(tanqueexterno)+int(tanqueinterno)} lts.\n",
    "#    \"\"\"\n",
    "#print(reportemision(horaprelanzamiento, tiempovuelo, destino, tanqueexterno, tanqueinterno))\n",
    "\n",
    "def reportemision(destino, *minutos, **reservascombustible):\n",
    "    reporte= f\"\"\"\n",
    "    Destino: {destino}\n",
    "    Minutos  para completar la misión: {sum(minutos)} min.\n",
    "    Reserva de combustible: {sum(reservascombustible.values())} lts.\n",
    "    \"\"\"\n",
    "    for nombretanque, litros in reservascombustible.items():\n",
    "        reporte += f\"Tanque {nombretanque}: {litros} litros restantes\\n\"\n",
    "    return reporte\n",
    "print(reportemision(\"Luna\", 20, 30, 40, principal=30, secundario=50, terciario=100))"
   ]
  }
 ],
 "metadata": {
  "interpreter": {
   "hash": "b89b5cfaba6639976dc87ff2fec6d58faec662063367e2c229c520fe71072417"
  },
  "kernelspec": {
   "display_name": "Python 3.10.2 64-bit",
   "language": "python",
   "name": "python3"
  },
  "language_info": {
   "codemirror_mode": {
    "name": "ipython",
    "version": 3
   },
   "file_extension": ".py",
   "mimetype": "text/x-python",
   "name": "python",
   "nbconvert_exporter": "python",
   "pygments_lexer": "ipython3",
   "version": "3.10.2"
  },
  "orig_nbformat": 4
 },
 "nbformat": 4,
 "nbformat_minor": 2
}
