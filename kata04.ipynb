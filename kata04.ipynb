{
 "cells": [
  {
   "cell_type": "markdown",
   "metadata": {},
   "source": [
    "# Ejercicio 1"
   ]
  },
  {
   "cell_type": "code",
   "execution_count": null,
   "metadata": {},
   "outputs": [],
   "source": [
    "text = \"\"\"Interesting facts about the Moon. The Moon is Earth's only satellite. There are several interesting facts about the Moon and how it affects life here on Earth. \n",
    "On average, the Moon moves 4cm away from the Earth every year. This yearly drift is not significant enough to cause immediate effects on Earth. The highest daylight temperature of the Moon is 127 C.\"\"\"\n",
    "partes=text.split('. ')\n",
    "clave=[\"average\", \"temperature\", \"distance\"]\n",
    "for item in partes:\n",
    "    for claves in clave:\n",
    "        if claves in item:\n",
    "            print(item)\n",
    "\n",
    "for grados in partes:\n",
    "    for clvs in clave:\n",
    "        if clvs in grados:\n",
    "            print(grados.replace('C', 'Celcius'))"
   ]
  },
  {
   "cell_type": "markdown",
   "metadata": {},
   "source": [
    "## Ejercicio 2"
   ]
  },
  {
   "cell_type": "code",
   "execution_count": 36,
   "metadata": {},
   "outputs": [
    {
     "name": "stdout",
     "output_type": "stream",
     "text": [
      "Hechos Sobre La Gravedad En Moon\n",
      "************************************************************\n",
      "Nombre: Moon\n",
      "Planeta: Tierra\n",
      "Gravedad: 1.6199999999999999 m/s^2\n",
      "************************************************************\n",
      "\n",
      "Hechos Sobre La Gravedad En Genímedes\n",
      "************************************************************\n",
      "Nombre: Moon\n",
      "Planeta: Tierra\n",
      "Gravedad: 1.6199999999999999 m/s^2\n",
      "************************************************************\n"
     ]
    }
   ],
   "source": [
    "name=\"Moon\"\n",
    "gravity=0.00162 #en km\n",
    "planet=\"Tierra\"\n",
    "titulo=f\"hechos sobre la gravedad en {name}\"\n",
    "datos=f\"\"\"{'*'*60}\n",
    "Nombre: {name}\n",
    "Planeta: {planet}\n",
    "Gravedad: {gravity*1000} m/s^2\n",
    "{'*'*60}\"\"\"\n",
    "unioncadenas=f\"\"\"{titulo.title()}\n",
    "{datos}\"\"\"\n",
    "print(unioncadenas)\n",
    "\n",
    "name=\"Genímedes\"\n",
    "gravity=0.00143\n",
    "planet=\"Marte\"\n",
    "titulo=f\"hechos sobre la gravedad en {name}\"\n",
    "nuevosdatos=f\"\"\"{'='*60}\n",
    "Nombre: {name}\n",
    "Planeta: {planet}\n",
    "Gravedad: {gravity*1000} m/s^2\n",
    "{'='*60}\"\"\"\n",
    "unioncadenas=f\"\"\"\\n{titulo.title()}\n",
    "{datos}\"\"\"\n",
    "print(unioncadenas)"
   ]
  }
 ],
 "metadata": {
  "interpreter": {
   "hash": "b89b5cfaba6639976dc87ff2fec6d58faec662063367e2c229c520fe71072417"
  },
  "kernelspec": {
   "display_name": "Python 3.10.2 64-bit",
   "language": "python",
   "name": "python3"
  },
  "language_info": {
   "codemirror_mode": {
    "name": "ipython",
    "version": 3
   },
   "file_extension": ".py",
   "mimetype": "text/x-python",
   "name": "python",
   "nbconvert_exporter": "python",
   "pygments_lexer": "ipython3",
   "version": "3.10.2"
  },
  "orig_nbformat": 4
 },
 "nbformat": 4,
 "nbformat_minor": 2
}
