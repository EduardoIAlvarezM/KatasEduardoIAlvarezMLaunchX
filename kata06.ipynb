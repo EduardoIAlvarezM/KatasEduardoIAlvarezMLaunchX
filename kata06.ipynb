{
 "cells": [
  {
   "cell_type": "markdown",
   "metadata": {},
   "source": [
    "# Ejercicio 1"
   ]
  },
  {
   "cell_type": "code",
   "execution_count": null,
   "metadata": {},
   "outputs": [],
   "source": [
    "planets=['Mercurio', 'Venus', 'Tierra', 'Marte', 'Júpiter', 'Saturno', 'Urano', 'Neptuno']\n",
    "print(f\"Número de planetas: {len(planets)}\")\n",
    "planets.append('Plutón')\n",
    "print(f\"El primer planeta es: {planets[0]}\\nEl último planeta es: {planets[8]}\")"
   ]
  },
  {
   "cell_type": "markdown",
   "metadata": {},
   "source": [
    "## Ejercicio 2"
   ]
  },
  {
   "cell_type": "code",
   "execution_count": 26,
   "metadata": {},
   "outputs": [
    {
     "name": "stdout",
     "output_type": "stream",
     "text": [
      "Los planetas más cercanos al Sol desde Júpiter: ['Mercurio', 'Venus', 'Tierra', 'Marte']\n",
      "Los planetas más alejados del Sol desde Júpiter son: ['Saturno', 'Urano', 'Neptuno']\n"
     ]
    }
   ],
   "source": [
    "planets=['Mercurio', 'Venus', 'Tierra', 'Marte', 'Júpiter', 'Saturno', 'Urano', 'Neptuno']\n",
    "planeta=input('Escbire el número de un plane|ta (recuerda que los nombres propios comienzan con mayúscula): ')\n",
    "busqueda=planets.index(planeta)\n",
    "print(f\"Los planetas más cercanos al Sol desde {planeta}: {planets[0:busqueda]}\")\n",
    "print(f\"Los planetas más alejados del Sol desde {planeta} son: {planets[busqueda+1:]}\")"
   ]
  }
 ],
 "metadata": {
  "interpreter": {
   "hash": "b89b5cfaba6639976dc87ff2fec6d58faec662063367e2c229c520fe71072417"
  },
  "kernelspec": {
   "display_name": "Python 3.10.2 64-bit",
   "language": "python",
   "name": "python3"
  },
  "language_info": {
   "codemirror_mode": {
    "name": "ipython",
    "version": 3
   },
   "file_extension": ".py",
   "mimetype": "text/x-python",
   "name": "python",
   "nbconvert_exporter": "python",
   "pygments_lexer": "ipython3",
   "version": "3.10.2"
  },
  "orig_nbformat": 4
 },
 "nbformat": 4,
 "nbformat_minor": 2
}
